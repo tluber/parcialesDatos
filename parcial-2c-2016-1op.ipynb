{
 "cells": [
  {
   "cell_type": "code",
   "execution_count": 1,
   "metadata": {
    "collapsed": false
   },
   "outputs": [
    {
     "data": {
      "text/plain": [
       "pyspark.context.SparkContext"
      ]
     },
     "execution_count": 1,
     "metadata": {},
     "output_type": "execute_result"
    }
   ],
   "source": [
    "import pyspark\n",
    "\n",
    "try: \n",
    "    type(sc)\n",
    "except NameError:\n",
    "    sc = pyspark.SparkContext('local[*]')    \n",
    "    \n",
    "type(sc)"
   ]
  },
  {
   "cell_type": "code",
   "execution_count": 144,
   "metadata": {
    "collapsed": false
   },
   "outputs": [],
   "source": [
    "textosRDD = sc.parallelize([(1,'fernet pelota casa futbol perro hamburguesa tren alcohol fernet tomate frutilla'), \n",
    "                            (2,'casa arbol cancha cerveza river boca playa colegio cigarrillo'), \n",
    "                            (3,'colegio alcohol mate europa viajar fiesta boliche fernet tren auto avion comida'), \n",
    "                            (4,'palicula cine futbol tomate lechuga colegio cerveza futbol rugby tren auto cigarrillo'), \n",
    "                            (5,'river river boca gato fiesta cerveza mate boliche avion comida auto')])\n",
    "\n",
    "usuariosRDD = sc.parallelize([(1,'fernet',10), (1,'pelota',10), (1,'fiesta',6), (2,'river',10), (2,'cerveza',8), \n",
    "                             (1,'boca',-2), (2,'boca',-10), (1,'cigarrillo',-5), (2,'cigarrillo',2), \n",
    "                             (1,'futbol',4), (2,'futbol',8), (1,'mate',-7), (2,'mate',5), (1,'auto',9), \n",
    "                             (2,'auto',2), (1,'colegio',-6), (2,'colegio',-1), (1,'gato',5), (2,'perro',8)])"
   ]
  },
  {
   "cell_type": "code",
   "execution_count": 145,
   "metadata": {
    "collapsed": false
   },
   "outputs": [
    {
     "data": {
      "text/plain": [
       "[('fernet', 1),\n",
       " ('pelota', 1),\n",
       " ('casa', 1),\n",
       " ('futbol', 1),\n",
       " ('perro', 1),\n",
       " ('hamburguesa', 1),\n",
       " ('tren', 1),\n",
       " ('alcohol', 1),\n",
       " ('fernet', 1),\n",
       " ('tomate', 1),\n",
       " ('frutilla', 1),\n",
       " ('casa', 2),\n",
       " ('arbol', 2),\n",
       " ('cancha', 2),\n",
       " ('cerveza', 2),\n",
       " ('river', 2),\n",
       " ('boca', 2),\n",
       " ('playa', 2),\n",
       " ('colegio', 2),\n",
       " ('cigarrillo', 2),\n",
       " ('colegio', 3),\n",
       " ('alcohol', 3),\n",
       " ('mate', 3),\n",
       " ('europa', 3),\n",
       " ('viajar', 3),\n",
       " ('fiesta', 3),\n",
       " ('boliche', 3),\n",
       " ('fernet', 3),\n",
       " ('tren', 3),\n",
       " ('auto', 3),\n",
       " ('avion', 3),\n",
       " ('comida', 3),\n",
       " ('palicula', 4),\n",
       " ('cine', 4),\n",
       " ('futbol', 4),\n",
       " ('tomate', 4),\n",
       " ('lechuga', 4),\n",
       " ('colegio', 4),\n",
       " ('cerveza', 4),\n",
       " ('futbol', 4),\n",
       " ('rugby', 4),\n",
       " ('tren', 4),\n",
       " ('auto', 4),\n",
       " ('cigarrillo', 4),\n",
       " ('river', 5),\n",
       " ('river', 5),\n",
       " ('boca', 5),\n",
       " ('gato', 5),\n",
       " ('fiesta', 5),\n",
       " ('cerveza', 5),\n",
       " ('mate', 5),\n",
       " ('boliche', 5),\n",
       " ('avion', 5),\n",
       " ('comida', 5),\n",
       " ('auto', 5)]"
      ]
     },
     "execution_count": 145,
     "metadata": {},
     "output_type": "execute_result"
    }
   ],
   "source": [
    "textosRDD = textosRDD.map(lambda x: (x[0],x[1].split())) #[(docIDs,['palabra1',...,'palabraN'])]\n",
    "def f(x): return x\n",
    "textosRDD = textosRDD.flatMapValues(f) #me une la clave (docID) con cada una de las palabras de su lista (valores)\n",
    "textosRDD = textosRDD.map(lambda x: (x[1],x[0]))\n",
    "textosRDD.collect()"
   ]
  },
  {
   "cell_type": "code",
   "execution_count": 146,
   "metadata": {
    "collapsed": false
   },
   "outputs": [
    {
     "data": {
      "text/plain": [
       "[('fernet', (1, 10)),\n",
       " ('pelota', (1, 10)),\n",
       " ('fiesta', (1, 6)),\n",
       " ('river', (2, 10)),\n",
       " ('cerveza', (2, 8)),\n",
       " ('boca', (1, -2)),\n",
       " ('boca', (2, -10)),\n",
       " ('cigarrillo', (1, -5)),\n",
       " ('cigarrillo', (2, 2)),\n",
       " ('futbol', (1, 4)),\n",
       " ('futbol', (2, 8)),\n",
       " ('mate', (1, -7)),\n",
       " ('mate', (2, 5)),\n",
       " ('auto', (1, 9)),\n",
       " ('auto', (2, 2)),\n",
       " ('colegio', (1, -6)),\n",
       " ('colegio', (2, -1)),\n",
       " ('gato', (1, 5)),\n",
       " ('perro', (2, 8))]"
      ]
     },
     "execution_count": 146,
     "metadata": {},
     "output_type": "execute_result"
    }
   ],
   "source": [
    "usuariosRDD = usuariosRDD.map(lambda x: (x[1],(x[0],x[2])))\n",
    "usuariosRDD.collect()"
   ]
  },
  {
   "cell_type": "code",
   "execution_count": 147,
   "metadata": {
    "collapsed": false
   },
   "outputs": [
    {
     "data": {
      "text/plain": [
       "[('auto', ((1, 9), 3)),\n",
       " ('auto', ((1, 9), 4)),\n",
       " ('auto', ((1, 9), 5)),\n",
       " ('auto', ((2, 2), 3)),\n",
       " ('auto', ((2, 2), 4)),\n",
       " ('auto', ((2, 2), 5)),\n",
       " ('gato', ((1, 5), 5)),\n",
       " ('river', ((2, 10), 2)),\n",
       " ('river', ((2, 10), 5)),\n",
       " ('river', ((2, 10), 5)),\n",
       " ('mate', ((1, -7), 3)),\n",
       " ('mate', ((1, -7), 5)),\n",
       " ('mate', ((2, 5), 3)),\n",
       " ('mate', ((2, 5), 5)),\n",
       " ('fiesta', ((1, 6), 3)),\n",
       " ('fiesta', ((1, 6), 5)),\n",
       " ('pelota', ((1, 10), 1)),\n",
       " ('boca', ((1, -2), 2)),\n",
       " ('boca', ((1, -2), 5)),\n",
       " ('boca', ((2, -10), 2)),\n",
       " ('boca', ((2, -10), 5)),\n",
       " ('perro', ((2, 8), 1)),\n",
       " ('colegio', ((1, -6), 2)),\n",
       " ('colegio', ((1, -6), 3)),\n",
       " ('colegio', ((1, -6), 4)),\n",
       " ('colegio', ((2, -1), 2)),\n",
       " ('colegio', ((2, -1), 3)),\n",
       " ('colegio', ((2, -1), 4)),\n",
       " ('cerveza', ((2, 8), 2)),\n",
       " ('cerveza', ((2, 8), 4)),\n",
       " ('cerveza', ((2, 8), 5)),\n",
       " ('cigarrillo', ((1, -5), 2)),\n",
       " ('cigarrillo', ((1, -5), 4)),\n",
       " ('cigarrillo', ((2, 2), 2)),\n",
       " ('cigarrillo', ((2, 2), 4)),\n",
       " ('futbol', ((1, 4), 1)),\n",
       " ('futbol', ((1, 4), 4)),\n",
       " ('futbol', ((1, 4), 4)),\n",
       " ('futbol', ((2, 8), 1)),\n",
       " ('futbol', ((2, 8), 4)),\n",
       " ('futbol', ((2, 8), 4)),\n",
       " ('fernet', ((1, 10), 1)),\n",
       " ('fernet', ((1, 10), 1)),\n",
       " ('fernet', ((1, 10), 3))]"
      ]
     },
     "execution_count": 147,
     "metadata": {},
     "output_type": "execute_result"
    }
   ],
   "source": [
    "docFinalRDD = usuariosRDD.join(textosRDD) # Une las claves que son iguales formando una tupla de sus valores.\n",
    "# Por lo tanto nos quedaran solamente las palabras para las cuales los usuarios tienen score.\n",
    "docFinalRDD.collect()"
   ]
  },
  {
   "cell_type": "code",
   "execution_count": 148,
   "metadata": {
    "collapsed": false
   },
   "outputs": [
    {
     "data": {
      "text/plain": [
       "[(1, 3, 9),\n",
       " (1, 4, 9),\n",
       " (1, 5, 9),\n",
       " (2, 3, 2),\n",
       " (2, 4, 2),\n",
       " (2, 5, 2),\n",
       " (1, 5, 5),\n",
       " (2, 2, 10),\n",
       " (2, 5, 10),\n",
       " (2, 5, 10),\n",
       " (1, 3, -7),\n",
       " (1, 5, -7),\n",
       " (2, 3, 5),\n",
       " (2, 5, 5),\n",
       " (1, 3, 6),\n",
       " (1, 5, 6),\n",
       " (1, 1, 10),\n",
       " (1, 2, -2),\n",
       " (1, 5, -2),\n",
       " (2, 2, -10),\n",
       " (2, 5, -10),\n",
       " (2, 1, 8),\n",
       " (1, 2, -6),\n",
       " (1, 3, -6),\n",
       " (1, 4, -6),\n",
       " (2, 2, -1),\n",
       " (2, 3, -1),\n",
       " (2, 4, -1),\n",
       " (2, 2, 8),\n",
       " (2, 4, 8),\n",
       " (2, 5, 8),\n",
       " (1, 2, -5),\n",
       " (1, 4, -5),\n",
       " (2, 2, 2),\n",
       " (2, 4, 2),\n",
       " (1, 1, 4),\n",
       " (1, 4, 4),\n",
       " (1, 4, 4),\n",
       " (2, 1, 8),\n",
       " (2, 4, 8),\n",
       " (2, 4, 8),\n",
       " (1, 1, 10),\n",
       " (1, 1, 10),\n",
       " (1, 3, 10)]"
      ]
     },
     "execution_count": 148,
     "metadata": {},
     "output_type": "execute_result"
    }
   ],
   "source": [
    "docFinalRDD = docFinalRDD.values()\n",
    "docFinalRDD = docFinalRDD.map(lambda x: (x[0][0],x[1],x[0][1])) # queda (userid,docid,score)\n",
    "docFinalRDD.collect()"
   ]
  },
  {
   "cell_type": "code",
   "execution_count": 149,
   "metadata": {
    "collapsed": false
   },
   "outputs": [
    {
     "data": {
      "text/plain": [
       "[(1, 5, 11),\n",
       " (1, 2, -13),\n",
       " (1, 3, 12),\n",
       " (2, 5, 25),\n",
       " (2, 4, 27),\n",
       " (1, 1, 34),\n",
       " (2, 3, 6),\n",
       " (2, 2, 9),\n",
       " (2, 1, 16),\n",
       " (1, 4, 6)]"
      ]
     },
     "execution_count": 149,
     "metadata": {},
     "output_type": "execute_result"
    }
   ],
   "source": [
    "docFinalRDD = docFinalRDD.map(lambda x: ((x[0],x[1]),x[2]))\n",
    "docFinalRDD = docFinalRDD.reduceByKey(lambda x,y: x+y)\n",
    "docFinalRDD = docFinalRDD.map(lambda x: (x[0][0], x[0][1], x[1])) #(userid,docid,scoreTotal)\n",
    "docFinalRDD.collect()"
   ]
  },
  {
   "cell_type": "code",
   "execution_count": null,
   "metadata": {
    "collapsed": true
   },
   "outputs": [],
   "source": []
  }
 ],
 "metadata": {
  "kernelspec": {
   "display_name": "pySpark",
   "language": "python",
   "name": "pyspark"
  },
  "language_info": {
   "codemirror_mode": {
    "name": "ipython",
    "version": 2
   },
   "file_extension": ".py",
   "mimetype": "text/x-python",
   "name": "python",
   "nbconvert_exporter": "python",
   "pygments_lexer": "ipython2",
   "version": "2.7.12"
  }
 },
 "nbformat": 4,
 "nbformat_minor": 1
}
