{
 "cells": [
  {
   "cell_type": "code",
   "execution_count": 1,
   "metadata": {
    "collapsed": false
   },
   "outputs": [
    {
     "data": {
      "text/plain": [
       "pyspark.context.SparkContext"
      ]
     },
     "execution_count": 1,
     "metadata": {},
     "output_type": "execute_result"
    }
   ],
   "source": [
    "import pyspark\n",
    "\n",
    "try: \n",
    "    type(sc)\n",
    "except NameError:\n",
    "    sc = pyspark.SparkContext('local[*]')    \n",
    "    \n",
    "type(sc)"
   ]
  },
  {
   "cell_type": "code",
   "execution_count": 43,
   "metadata": {
    "collapsed": false
   },
   "outputs": [
    {
     "data": {
      "text/plain": [
       "[(1, 20160421, 21),\n",
       " (2, 20160521, 10),\n",
       " (1, 20160521, 15),\n",
       " (3, 20160421, 8),\n",
       " (2, 20160621, 30),\n",
       " (1, 20160721, 4),\n",
       " (2, 20160421, 5),\n",
       " (3, 20160421, 10),\n",
       " (1, 20160421, 8),\n",
       " (2, 20160121, 6),\n",
       " (2, 20160421, 5),\n",
       " (3, 20161021, 13),\n",
       " (3, 20160421, 11),\n",
       " (1, 20160421, 9)]"
      ]
     },
     "execution_count": 43,
     "metadata": {},
     "output_type": "execute_result"
    }
   ],
   "source": [
    "tripSummaryRDD = sc.parallelize([(1,1,1,45,20160421,21), \n",
    "                                (2,2,5,45,20160521,10), \n",
    "                                (1,1,1,45,20160521,15), \n",
    "                                (3,3,1,45,20160421,8), \n",
    "                                (2,2,1,45,20160621,30), \n",
    "                                (1,1,1,45,20160721,4), \n",
    "                                (2,2,1,45,20160421,5), \n",
    "                                (3,2,1,45,20160421,10), \n",
    "                                (1,1,1,45,20160421,8), \n",
    "                                (2,1,1,45,20160121,6), \n",
    "                                (2,1,1,45,20160421,5), \n",
    "                                (3,1,1,45,20161021,13), \n",
    "                                (3,1,1,45,20160421,11), \n",
    "                                (1,1,1,45,20160421,9)])\n",
    "\n",
    "# Los campos de las tuplas son (conductor,fecha,distancia en km).\n",
    "tripSummaryRDD = tripSummaryRDD.map(lambda a: (a[0],a[4],a[5]))\n",
    "tripSummaryRDD.collect()"
   ]
  },
  {
   "cell_type": "code",
   "execution_count": 44,
   "metadata": {
    "collapsed": false
   },
   "outputs": [
    {
     "data": {
      "text/plain": [
       "[(1, 20160421, 21),\n",
       " (3, 20160421, 8),\n",
       " (2, 20160421, 5),\n",
       " (3, 20160421, 10),\n",
       " (1, 20160421, 8),\n",
       " (2, 20160421, 5),\n",
       " (3, 20160421, 11),\n",
       " (1, 20160421, 9)]"
      ]
     },
     "execution_count": 44,
     "metadata": {},
     "output_type": "execute_result"
    }
   ],
   "source": [
    "# Me quedo con los viajes de abril.\n",
    "tripSummaryRDD = tripSummaryRDD.filter(lambda a: '201604' in str(a[1]))\n",
    "tripSummaryRDD.collect()"
   ]
  },
  {
   "cell_type": "code",
   "execution_count": 45,
   "metadata": {
    "collapsed": false
   },
   "outputs": [
    {
     "data": {
      "text/plain": [
       "[('1', (21, 1)),\n",
       " ('3', (8, 1)),\n",
       " ('2', (5, 1)),\n",
       " ('3', (10, 1)),\n",
       " ('1', (8, 1)),\n",
       " ('2', (5, 1)),\n",
       " ('3', (11, 1)),\n",
       " ('1', (9, 1))]"
      ]
     },
     "execution_count": 45,
     "metadata": {},
     "output_type": "execute_result"
    }
   ],
   "source": [
    "# Genero una tupla de la forma ('conductor',(distancia,1)).\n",
    "tripSummaryRDD = tripSummaryRDD.map(lambda a: (str(a[0]),(a[2],1)))\n",
    "tripSummaryRDD.collect()"
   ]
  },
  {
   "cell_type": "code",
   "execution_count": 46,
   "metadata": {
    "collapsed": true
   },
   "outputs": [],
   "source": [
    "# Agrupo por clave y sumo los viajes y distancias."
   ]
  },
  {
   "cell_type": "code",
   "execution_count": 50,
   "metadata": {
    "collapsed": false
   },
   "outputs": [
    {
     "data": {
      "text/plain": [
       "[('1', (38, 3)), ('3', (29, 3)), ('2', (10, 2))]"
      ]
     },
     "execution_count": 50,
     "metadata": {},
     "output_type": "execute_result"
    }
   ],
   "source": [
    "tripSummaryRDD = tripSummaryRDD.reduceByKey(lambda x,y: (x[0]+y[0],x[1]+y[1]))\n",
    "tripSummaryRDD.collect()"
   ]
  },
  {
   "cell_type": "code",
   "execution_count": 56,
   "metadata": {
    "collapsed": false
   },
   "outputs": [
    {
     "data": {
      "text/plain": [
       "('1', 12)"
      ]
     },
     "execution_count": 56,
     "metadata": {},
     "output_type": "execute_result"
    }
   ],
   "source": [
    "# Calculo el promedio y me quedo con el conductor de mayor promedio de viajes en abril.\n",
    "tripSummaryRDD = tripSummaryRDD.map(lambda x: (x[0],x[1][0]/x[1][1]))\n",
    "tripSummaryRDD = tripSummaryRDD.reduce(lambda x,y: x if x[1]>y[1] else y)\n",
    "tripSummaryRDD"
   ]
  },
  {
   "cell_type": "code",
   "execution_count": null,
   "metadata": {
    "collapsed": true
   },
   "outputs": [],
   "source": []
  }
 ],
 "metadata": {
  "kernelspec": {
   "display_name": "pySpark",
   "language": "python",
   "name": "pyspark"
  },
  "language_info": {
   "codemirror_mode": {
    "name": "ipython",
    "version": 2
   },
   "file_extension": ".py",
   "mimetype": "text/x-python",
   "name": "python",
   "nbconvert_exporter": "python",
   "pygments_lexer": "ipython2",
   "version": "2.7.12"
  }
 },
 "nbformat": 4,
 "nbformat_minor": 1
}
