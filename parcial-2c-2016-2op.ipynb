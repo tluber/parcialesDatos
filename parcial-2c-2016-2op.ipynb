{
 "cells": [
  {
   "cell_type": "code",
   "execution_count": 1,
   "metadata": {
    "collapsed": false
   },
   "outputs": [
    {
     "data": {
      "text/plain": [
       "pyspark.context.SparkContext"
      ]
     },
     "execution_count": 1,
     "metadata": {},
     "output_type": "execute_result"
    }
   ],
   "source": [
    "import pyspark\n",
    "\n",
    "try: \n",
    "    type(sc)\n",
    "except NameError:\n",
    "    sc = pyspark.SparkContext('local[*]')    \n",
    "    \n",
    "type(sc)"
   ]
  },
  {
   "cell_type": "code",
   "execution_count": 8,
   "metadata": {
    "collapsed": true
   },
   "outputs": [],
   "source": [
    "censoRDD = sc.parallelize([('Buenos Aires', 'La Plata', 100000), ('Buenos Aires', 'Dolores', 30000), ('Buenos Aires', 'Tandil', 50000), \n",
    "                          ('Cordoba', 'Cosquin', 45000), ('Cordoba', 'Cordoba', 1000000), ('Mendoza', 'San Rafael', 45000), \n",
    "                          ('Mendoza', 'Mendoza', 100000), ('Santa Cruz', 'Tres Lagos', 30000), ('Santa Cruz', 'Cabo Blanco', 10000),\n",
    "                          ('Buenos Aires', 'Bahia Blanca', 150000), ('Buenos Aires', 'Junin', 48000), ('Santa Fe', 'Rosario', 600000), \n",
    "                          ('Santa Fe', 'Intiyaco', 35000), ('Santa Fe', 'Venado Tuerto', 40000), ('Buenos Aires', 'Pergamino', 80000), \n",
    "                          ('Cordoba', 'Sampacho', 49000), ('Cordoba', 'Obispo Trejo', 25000)])\n",
    "\n",
    "# RDD's de la forma (PROVINCIA, LOCALIDAD, POBLACIÓN).\n",
    "# Cuál es la provincia que tiene mayor cantidad de localidades con población entre 20000 y 50000 habitantes?."
   ]
  },
  {
   "cell_type": "code",
   "execution_count": 9,
   "metadata": {
    "collapsed": false
   },
   "outputs": [
    {
     "data": {
      "text/plain": [
       "('Cordoba', 3)"
      ]
     },
     "execution_count": 9,
     "metadata": {},
     "output_type": "execute_result"
    }
   ],
   "source": [
    "# Primero filtramos las provincias y localidades que tengan el rango de habitantes pedido.\n",
    "provinciaConMasLocalidades = censoRDD.filter(lambda x: x[2] > 20000 and x[2] < 50000)\n",
    "\n",
    "# Generamos tuplas de la forma (provincia, 1) para luego agruparlas y obtener las provincias con la cantidad de\n",
    "# localidades que cumplen con la canidad de habitantes.\n",
    "provinciaConMasLocalidades = provinciaConMasLocalidades.map(lambda x: (x[0],1))\n",
    "provinciaConMasLocalidades = provinciaConMasLocalidades.reduceByKey(lambda x,y: x+y)\n",
    "\n",
    "# Nos quedamos con la provincia que tiene mayor cantidad de localidades.\n",
    "provinciaConMasLocalidades = provinciaConMasLocalidades.reduce(lambda x,y: x if x[1]>y[1] else y)\n",
    "provinciaConMasLocalidades"
   ]
  },
  {
   "cell_type": "code",
   "execution_count": null,
   "metadata": {
    "collapsed": true
   },
   "outputs": [],
   "source": []
  }
 ],
 "metadata": {
  "kernelspec": {
   "display_name": "pySpark",
   "language": "python",
   "name": "pyspark"
  },
  "language_info": {
   "codemirror_mode": {
    "name": "ipython",
    "version": 2
   },
   "file_extension": ".py",
   "mimetype": "text/x-python",
   "name": "python",
   "nbconvert_exporter": "python",
   "pygments_lexer": "ipython2",
   "version": "2.7.12"
  }
 },
 "nbformat": 4,
 "nbformat_minor": 1
}
