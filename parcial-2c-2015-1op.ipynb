{
 "cells": [
  {
   "cell_type": "code",
   "execution_count": 1,
   "metadata": {
    "collapsed": false
   },
   "outputs": [
    {
     "data": {
      "text/plain": [
       "pyspark.context.SparkContext"
      ]
     },
     "execution_count": 1,
     "metadata": {},
     "output_type": "execute_result"
    }
   ],
   "source": [
    "import pyspark\n",
    "\n",
    "try: \n",
    "    type(sc)\n",
    "except NameError:\n",
    "    sc = pyspark.SparkContext('local[*]')    \n",
    "    \n",
    "type(sc)"
   ]
  },
  {
   "cell_type": "code",
   "execution_count": 26,
   "metadata": {
    "collapsed": true
   },
   "outputs": [],
   "source": [
    "coordenadasRDD = sc.parallelize([(1,5,2,3), (1,3,1,6), (1,10,4,6), (0,4,5,8), (2,7,1,9), (1,3,1,4)])"
   ]
  },
  {
   "cell_type": "code",
   "execution_count": 27,
   "metadata": {
    "collapsed": false,
    "scrolled": true
   },
   "outputs": [
    {
     "data": {
      "text/plain": [
       "[(1, 3, 1, 6), (1, 3, 1, 4)]"
      ]
     },
     "execution_count": 27,
     "metadata": {},
     "output_type": "execute_result"
    }
   ],
   "source": [
    "#filtra los rectangulos que contienen al pto(2,2)\n",
    "coordenadasRDD.filter(lambda a: a[0]<2<a[1] and a[2]<2<a[3]).take(10)"
   ]
  },
  {
   "cell_type": "code",
   "execution_count": 29,
   "metadata": {
    "collapsed": true
   },
   "outputs": [],
   "source": [
    "coordenadasRDD = coordenadasRDD.filter(lambda a: a[0]<2<a[1] and a[2]<2<a[3])"
   ]
  },
  {
   "cell_type": "code",
   "execution_count": 30,
   "metadata": {
    "collapsed": true
   },
   "outputs": [],
   "source": [
    "#nos quedamos con el rectangulo de superficie menor\n",
    "coordenadasRDD = coordenadasRDD.reduce(lambda a,b: a if (abs(a[0]-a[1])*abs(a[2]-a[3])) < (abs(b[0]-b[1])*abs(b[2]-b[3])) else b)"
   ]
  },
  {
   "cell_type": "code",
   "execution_count": 32,
   "metadata": {
    "collapsed": false
   },
   "outputs": [
    {
     "data": {
      "text/plain": [
       "(1, 3, 1, 4)"
      ]
     },
     "execution_count": 32,
     "metadata": {},
     "output_type": "execute_result"
    }
   ],
   "source": [
    "coordenadasRDD"
   ]
  },
  {
   "cell_type": "code",
   "execution_count": 36,
   "metadata": {
    "collapsed": true
   },
   "outputs": [],
   "source": [
    "coordenadasRDD = sc.parallelize([(1,5,2,3), (1,3,1,6), (1,10,4,6), (0,4,5,8), (2,7,1,9), (1,3,1,4), (0,4,3,7)])"
   ]
  },
  {
   "cell_type": "code",
   "execution_count": 37,
   "metadata": {
    "collapsed": false
   },
   "outputs": [
    {
     "data": {
      "text/plain": [
       "[(1, 10, 4, 6), (2, 7, 1, 9), (0, 4, 3, 7)]"
      ]
     },
     "execution_count": 37,
     "metadata": {},
     "output_type": "execute_result"
    }
   ],
   "source": [
    "#filtra los rectangulos que contienen al pto(3,5)\n",
    "coordenadasRDD.filter(lambda a: a[0]<3<a[1] and a[2]<5<a[3]).take(10)"
   ]
  },
  {
   "cell_type": "code",
   "execution_count": 38,
   "metadata": {
    "collapsed": true
   },
   "outputs": [],
   "source": [
    "coordenadasRDD = coordenadasRDD.filter(lambda a: a[0]<3<a[1] and a[2]<5<a[3])\n",
    "#nos quedamos con el rectangulo de superficie menor\n",
    "coordenadasRDD = coordenadasRDD.reduce(lambda a,b: a if (abs(a[0]-a[1])*abs(a[2]-a[3])) < (abs(b[0]-b[1])*abs(b[2]-b[3])) else b)"
   ]
  },
  {
   "cell_type": "code",
   "execution_count": 39,
   "metadata": {
    "collapsed": false
   },
   "outputs": [
    {
     "data": {
      "text/plain": [
       "(0, 4, 3, 7)"
      ]
     },
     "execution_count": 39,
     "metadata": {},
     "output_type": "execute_result"
    }
   ],
   "source": [
    "coordenadasRDD"
   ]
  },
  {
   "cell_type": "code",
   "execution_count": null,
   "metadata": {
    "collapsed": true
   },
   "outputs": [],
   "source": []
  }
 ],
 "metadata": {
  "kernelspec": {
   "display_name": "pySpark",
   "language": "python",
   "name": "pyspark"
  },
  "language_info": {
   "codemirror_mode": {
    "name": "ipython",
    "version": 2
   },
   "file_extension": ".py",
   "mimetype": "text/x-python",
   "name": "python",
   "nbconvert_exporter": "python",
   "pygments_lexer": "ipython2",
   "version": "2.7.12"
  }
 },
 "nbformat": 4,
 "nbformat_minor": 1
}
