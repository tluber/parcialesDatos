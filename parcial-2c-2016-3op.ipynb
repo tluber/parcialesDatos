{
 "cells": [
  {
   "cell_type": "code",
   "execution_count": 1,
   "metadata": {
    "collapsed": false
   },
   "outputs": [
    {
     "data": {
      "text/plain": [
       "pyspark.context.SparkContext"
      ]
     },
     "execution_count": 1,
     "metadata": {},
     "output_type": "execute_result"
    }
   ],
   "source": [
    "import pyspark\n",
    "\n",
    "try: \n",
    "    type(sc)\n",
    "except NameError:\n",
    "    sc = pyspark.SparkContext('local[*]')    \n",
    "    \n",
    "type(sc)"
   ]
  },
  {
   "cell_type": "code",
   "execution_count": 55,
   "metadata": {
    "collapsed": true
   },
   "outputs": [],
   "source": [
    "censoRDD = sc.parallelize([('Buenos Aires', 'La Plata', 100000), ('Buenos Aires', 'Dolores', 30000), ('Buenos Aires', 'Tandil', 50000), \n",
    "                          ('Cordoba', 'Cosquin', 45000), ('Cordoba', 'Cordoba', 1000000), ('Mendoza', 'San Rafael', 45000), \n",
    "                          ('Mendoza', 'Mendoza', 100000), ('Santa Cruz', 'Tres Lagos', 30000), ('Santa Cruz', 'Cabo Blanco', 10000),\n",
    "                          ('Buenos Aires', 'Bahia Blanca', 150000), ('Buenos Aires', 'Junin', 48000), ('Santa Fe', 'Rosario', 600000), \n",
    "                          ('Santa Fe', 'Intiyaco', 35000), ('Santa Fe', 'Venado Tuerto', 40000), ('Buenos Aires', 'Pergamino', 80000), \n",
    "                          ('Cordoba', 'Sampacho', 49000), ('Cordoba', 'Obispo Trejo', 25000),\n",
    "                           ('Mendoza', 'Tupungato', 68000), ('Santa Cruz', 'Tres Cerros', 80000)])\n",
    "\n",
    "# RDD's de la forma (PROVINCIA, LOCALIDAD, POBLACIÓN).\n",
    "# Considerando unicamente las 3 LOCALIDADES más pobladas de cada PROVINCIA. Cuáles son las 3 PROVINCIAS que tienen\n",
    "# mayor cantidad de habitantes?"
   ]
  },
  {
   "cell_type": "code",
   "execution_count": 73,
   "metadata": {
    "collapsed": false
   },
   "outputs": [
    {
     "data": {
      "text/plain": [
       "[('Buenos Aires', [150000, 100000, 80000, 50000, 48000, 30000]),\n",
       " ('Santa Cruz', [80000, 30000, 10000]),\n",
       " ('Santa Fe', [600000, 40000, 35000]),\n",
       " ('Mendoza', [100000, 68000, 45000]),\n",
       " ('Cordoba', [1000000, 49000, 45000, 25000])]"
      ]
     },
     "execution_count": 73,
     "metadata": {},
     "output_type": "execute_result"
    }
   ],
   "source": [
    "censo2RDD = censoRDD.map(lambda x: (x[0],x[2])) # (provincia, poblacion).\n",
    "censo2RDD = censo2RDD.sortBy(lambda x: x[1], ascending=False) # ordeno las poblaciones en orden descendente.\n",
    "censo2RDD = censo2RDD.groupByKey().mapValues(lambda x: list(x)) # (provincia,[poblaciones]) ordenadas.\n",
    "censo2RDD.collect()"
   ]
  },
  {
   "cell_type": "code",
   "execution_count": 74,
   "metadata": {
    "collapsed": false
   },
   "outputs": [
    {
     "data": {
      "text/plain": [
       "[('Cordoba', 1094000), ('Santa Fe', 675000), ('Buenos Aires', 330000)]"
      ]
     },
     "execution_count": 74,
     "metadata": {},
     "output_type": "execute_result"
    }
   ],
   "source": [
    "censo2RDD = censo2RDD.map(lambda x: (x[0],x[1][0:3])) # Me quedo con las 3 poblaciones más grandes.\n",
    "censo2RDD = censo2RDD.map(lambda x: (x[0],x[1][0]+x[1][1]+x[1][2])) # Sumo las poblaciones.\n",
    "censo2RDD = censo2RDD.sortBy(lambda x: x[1], ascending=False) # Ordeno y me quedo con las 3 provincias más pobladas.\n",
    "censo2RDD.take(3)"
   ]
  },
  {
   "cell_type": "code",
   "execution_count": null,
   "metadata": {
    "collapsed": true
   },
   "outputs": [],
   "source": []
  }
 ],
 "metadata": {
  "kernelspec": {
   "display_name": "pySpark",
   "language": "python",
   "name": "pyspark"
  },
  "language_info": {
   "codemirror_mode": {
    "name": "ipython",
    "version": 2
   },
   "file_extension": ".py",
   "mimetype": "text/x-python",
   "name": "python",
   "nbconvert_exporter": "python",
   "pygments_lexer": "ipython2",
   "version": "2.7.12"
  }
 },
 "nbformat": 4,
 "nbformat_minor": 1
}
