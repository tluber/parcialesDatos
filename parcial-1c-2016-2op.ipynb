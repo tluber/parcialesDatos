{
 "cells": [
  {
   "cell_type": "code",
   "execution_count": 1,
   "metadata": {
    "collapsed": false
   },
   "outputs": [
    {
     "data": {
      "text/plain": [
       "pyspark.context.SparkContext"
      ]
     },
     "execution_count": 1,
     "metadata": {},
     "output_type": "execute_result"
    }
   ],
   "source": [
    "import pyspark\n",
    "\n",
    "try: \n",
    "    type(sc)\n",
    "except NameError:\n",
    "    sc = pyspark.SparkContext('local[*]')    \n",
    "    \n",
    "type(sc)"
   ]
  },
  {
   "cell_type": "code",
   "execution_count": 16,
   "metadata": {
    "collapsed": false
   },
   "outputs": [
    {
     "data": {
      "text/plain": [
       "[(1, 1, 'masi', 'Que es esto?'),\n",
       " (2, 2, 'tomas', 'Un chat!'),\n",
       " (3, 1, 'masi', 'Ahhh! Y de donde salio? Whatsapp?'),\n",
       " (4, 2, 'tomas', 'Si! Como sabias?'),\n",
       " (5, 1, 'masi', 'Adivine'),\n",
       " (6, 3, 'migue', 'Hola! que es esto?????')]"
      ]
     },
     "execution_count": 16,
     "metadata": {},
     "output_type": "execute_result"
    }
   ],
   "source": [
    "chatsRDD = sc.parallelize([\n",
    "    (1, 1, 'masi', 'Que es esto?'),\n",
    "    (2, 2, 'tomas', 'Un chat!'),\n",
    "    (3, 1, 'masi', 'Ahhh! Y de donde salio? Whatsapp?'),\n",
    "    (4, 2, 'tomas', 'Si! Como sabias?'),\n",
    "    (5, 1, 'masi', 'Adivine'),\n",
    "    (6, 3, 'migue', 'Hola! que es esto?????')])\n",
    "\n",
    "chatsRDD.collect()"
   ]
  },
  {
   "cell_type": "code",
   "execution_count": 17,
   "metadata": {
    "collapsed": false
   },
   "outputs": [
    {
     "data": {
      "text/plain": [
       "(3, 5)"
      ]
     },
     "execution_count": 17,
     "metadata": {},
     "output_type": "execute_result"
    }
   ],
   "source": [
    "usuarioPregunton = chatsRDD.map(lambda x: (x[1],x[3].count('?')))\n",
    "usuarioPregunton = usuarioPregunton.reduceByKey(lambda x,y: x+y)\n",
    "usuarioPregunton = usuarioPregunton.reduce(lambda x,y: x if x[1]>y[1] else y)\n",
    "usuarioPregunton"
   ]
  },
  {
   "cell_type": "code",
   "execution_count": null,
   "metadata": {
    "collapsed": true
   },
   "outputs": [],
   "source": []
  }
 ],
 "metadata": {
  "kernelspec": {
   "display_name": "pySpark",
   "language": "python",
   "name": "pyspark"
  },
  "language_info": {
   "codemirror_mode": {
    "name": "ipython",
    "version": 2
   },
   "file_extension": ".py",
   "mimetype": "text/x-python",
   "name": "python",
   "nbconvert_exporter": "python",
   "pygments_lexer": "ipython2",
   "version": "2.7.12"
  }
 },
 "nbformat": 4,
 "nbformat_minor": 1
}
